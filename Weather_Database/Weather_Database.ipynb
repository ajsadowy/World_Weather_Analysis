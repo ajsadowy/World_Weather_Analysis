{
 "cells": [
  {
   "cell_type": "code",
   "execution_count": 1,
   "id": "69e01cc7",
   "metadata": {},
   "outputs": [],
   "source": [
    "# Importing dependencies.\n",
    "import pandas as pd\n",
    "import matplotlib.pyplot as plt\n",
    "import numpy as np\n",
    "import requests\n",
    "import gmaps\n",
    "from datetime import datetime\n",
    "from citipy import citipy\n",
    "from config import weather_api_key"
   ]
  },
  {
   "cell_type": "code",
   "execution_count": 2,
   "id": "6a0c1f6a",
   "metadata": {},
   "outputs": [],
   "source": [
    "# Create a set of 2000 random latitude and longitude combinations.\n",
    "lats = np.random.uniform(low = -90.000, high = 90.000, size = 2000)\n",
    "longs = np.random.uniform(low = -180.000, high = 180.000, size = 2000)\n",
    "lats_longs = zip(lats, longs)\n",
    "coordinates = list(lats_longs)"
   ]
  },
  {
   "cell_type": "code",
   "execution_count": 3,
   "id": "a9fd24e4",
   "metadata": {},
   "outputs": [
    {
     "data": {
      "text/plain": [
       "727"
      ]
     },
     "execution_count": 3,
     "metadata": {},
     "output_type": "execute_result"
    }
   ],
   "source": [
    "# Pull the nearest city using citipy.\n",
    "cities = []\n",
    "# Identify the city for each lats and longs coordinates.\n",
    "for coordinate in coordinates:\n",
    "    city = citipy.nearest_city(coordinate[0], coordinate[1]).city_name\n",
    "    \n",
    "    # If the city is unique, add to list.\n",
    "    if city not in cities:\n",
    "        cities.append(city)\n",
    "# Print the city count to confirm sufficient count.\n",
    "len(cities)"
   ]
  },
  {
   "cell_type": "code",
   "execution_count": 4,
   "id": "fea97ffe",
   "metadata": {},
   "outputs": [],
   "source": [
    "# Creating url for Weather map API call request.\n",
    "url = \"http://api.openweathermap.org/data/2.5/weather?units=Imperial&APPID=\" + weather_api_key"
   ]
  },
  {
   "cell_type": "code",
   "execution_count": 5,
   "id": "625a464d",
   "metadata": {},
   "outputs": [
    {
     "name": "stdout",
     "output_type": "stream",
     "text": [
      "Beginning Data Retrieval, my Lord.\n",
      "-----------------------------\n"
     ]
    }
   ],
   "source": [
    "# Create a list to hold weather data.\n",
    "city_data = []\n",
    "\n",
    "# Print to indicate Data Retrieval Delete Later.\n",
    "print(\"Beginning Data Retrieval, my Lord.\")\n",
    "print(\"-----------------------------\")\n",
    "\n",
    "# Create counters.\n",
    "record_count = 1\n",
    "set_count = 1"
   ]
  },
  {
   "cell_type": "code",
   "execution_count": 6,
   "id": "a676931d",
   "metadata": {},
   "outputs": [],
   "source": [
    "# Some of the print commands have been changed to messages. Used to make sure the operation works, but removed to save space on github."
   ]
  },
  {
   "cell_type": "code",
   "execution_count": 7,
   "id": "f5f30cbf",
   "metadata": {},
   "outputs": [],
   "source": [
    "# Loop through all the cities in the list.\n",
    "for i, city in enumerate(cities):\n",
    "\n",
    "    # Group cities in sets of 50 for logging purposes.\n",
    "    if (i % 50 == 0 and i >= 50):\n",
    "        set_count += 1\n",
    "        record_count = 1\n",
    "    \n",
    "    # Create endpoint URL with each city.\n",
    "    city_url = url + \"&q=\" + city.replace(\" \",\"+\")\n",
    "\n",
    "    # Log the URL, record, and set numbers and the city.\n",
    "    #print(f\"My Lord, Processing Record {record_count} of Set {set_count} | {city}\")\n",
    "    \n",
    "    # Add 1 to the record count.\n",
    "    record_count += 1\n",
    "    \n",
    "    # Run an API call for each city.\n",
    "    try:\n",
    "        # Review the JSON then grab data.\n",
    "        city_weather = requests.get(city_url).json()\n",
    "        \n",
    "        # Spread the required data.\n",
    "        city_lat = city_weather[\"coord\"][\"lat\"]\n",
    "        city_lng = city_weather[\"coord\"][\"lon\"]\n",
    "        city_max_temp = city_weather[\"main\"][\"temp_max\"]\n",
    "        city_humidity = city_weather[\"main\"][\"humidity\"]\n",
    "        city_clouds = city_weather[\"clouds\"][\"all\"]\n",
    "        city_wind = city_weather[\"wind\"][\"speed\"]\n",
    "        city_country = city_weather[\"sys\"][\"country\"]\n",
    "        city_wdesc = city_weather[\"weather\"][0][\"description\"]\n",
    "        try:\n",
    "            city_rain = city_weather[\"rain\"]\n",
    "            try:\n",
    "                city_rain_value = city_rain[\"3h\"]\n",
    "            except KeyError:\n",
    "                city_rain_value = city_rain[\"1h\"]\n",
    "        except KeyError:\n",
    "            city_rain_value = 0\n",
    "        try:\n",
    "            city_snow = city_weather[\"snow\"]\n",
    "            try:\n",
    "                city_snow_value = city_snow[\"3h\"]\n",
    "            except KeyError:\n",
    "                city_snow_value = city_snow[\"1h\"]\n",
    "        except KeyError:\n",
    "            city_snow_value = 0\n",
    "        \n",
    "        # Append the city info into city_data list\n",
    "        city_data.append({\"City\": city.title(),\n",
    "                          \"Country\": city_country,\n",
    "                          \"Latitudes\": city_lat,\n",
    "                          \"Longitudes\": city_lng,\n",
    "                          \"Max Temp\": city_max_temp,\n",
    "                          \"Humidity\": city_humidity,\n",
    "                          \"Cloudiness\": city_clouds,\n",
    "                          \"Wind Speed\": city_wind,\n",
    "                          \"Current Description\": city_wdesc,\n",
    "                          \"Rain (inches)\": city_rain_value,\n",
    "                          \"Snow (inches)\": city_snow_value})\n",
    "\n",
    "    # If an error occurs, continue by skipping the city.\n",
    "    except:\n",
    "        #print(\"City cannot be found. Skipping...for now.\")\n",
    "        pass\n",
    "\n",
    "    # Message for Data Retrieval being completed.\n",
    "    #print(\"   ---   ---   ---   ---   ---   ---   ---   \")\n",
    "    #print(\"     Data Retrieval Completed, my Lord.      \")\n",
    "    #print(\"=============================================\")\n",
    "    "
   ]
  },
  {
   "cell_type": "code",
   "execution_count": 8,
   "id": "15147dfb",
   "metadata": {
    "scrolled": true
   },
   "outputs": [
    {
     "data": {
      "text/html": [
       "<div>\n",
       "<style scoped>\n",
       "    .dataframe tbody tr th:only-of-type {\n",
       "        vertical-align: middle;\n",
       "    }\n",
       "\n",
       "    .dataframe tbody tr th {\n",
       "        vertical-align: top;\n",
       "    }\n",
       "\n",
       "    .dataframe thead th {\n",
       "        text-align: right;\n",
       "    }\n",
       "</style>\n",
       "<table border=\"1\" class=\"dataframe\">\n",
       "  <thead>\n",
       "    <tr style=\"text-align: right;\">\n",
       "      <th></th>\n",
       "      <th>City</th>\n",
       "      <th>Country</th>\n",
       "      <th>Latitudes</th>\n",
       "      <th>Longitudes</th>\n",
       "      <th>Max Temp</th>\n",
       "      <th>Humidity</th>\n",
       "      <th>Cloudiness</th>\n",
       "      <th>Wind Speed</th>\n",
       "      <th>Current Description</th>\n",
       "      <th>Rain (inches)</th>\n",
       "      <th>Snow (inches)</th>\n",
       "    </tr>\n",
       "  </thead>\n",
       "  <tbody>\n",
       "    <tr>\n",
       "      <th>0</th>\n",
       "      <td>Hilo</td>\n",
       "      <td>US</td>\n",
       "      <td>19.7297</td>\n",
       "      <td>-155.0900</td>\n",
       "      <td>76.73</td>\n",
       "      <td>91</td>\n",
       "      <td>90</td>\n",
       "      <td>17.27</td>\n",
       "      <td>heavy intensity rain</td>\n",
       "      <td>5.06</td>\n",
       "      <td>0.0</td>\n",
       "    </tr>\n",
       "    <tr>\n",
       "      <th>1</th>\n",
       "      <td>Ostrovnoy</td>\n",
       "      <td>RU</td>\n",
       "      <td>68.0531</td>\n",
       "      <td>39.5131</td>\n",
       "      <td>9.59</td>\n",
       "      <td>73</td>\n",
       "      <td>83</td>\n",
       "      <td>23.38</td>\n",
       "      <td>broken clouds</td>\n",
       "      <td>0.00</td>\n",
       "      <td>0.0</td>\n",
       "    </tr>\n",
       "    <tr>\n",
       "      <th>2</th>\n",
       "      <td>Qaqortoq</td>\n",
       "      <td>GL</td>\n",
       "      <td>60.7167</td>\n",
       "      <td>-46.0333</td>\n",
       "      <td>25.30</td>\n",
       "      <td>68</td>\n",
       "      <td>100</td>\n",
       "      <td>23.62</td>\n",
       "      <td>overcast clouds</td>\n",
       "      <td>0.00</td>\n",
       "      <td>0.0</td>\n",
       "    </tr>\n",
       "    <tr>\n",
       "      <th>3</th>\n",
       "      <td>Rikitea</td>\n",
       "      <td>PF</td>\n",
       "      <td>-23.1203</td>\n",
       "      <td>-134.9692</td>\n",
       "      <td>76.50</td>\n",
       "      <td>74</td>\n",
       "      <td>99</td>\n",
       "      <td>8.61</td>\n",
       "      <td>overcast clouds</td>\n",
       "      <td>0.00</td>\n",
       "      <td>0.0</td>\n",
       "    </tr>\n",
       "    <tr>\n",
       "      <th>4</th>\n",
       "      <td>Hermanus</td>\n",
       "      <td>ZA</td>\n",
       "      <td>-34.4187</td>\n",
       "      <td>19.2345</td>\n",
       "      <td>60.91</td>\n",
       "      <td>94</td>\n",
       "      <td>100</td>\n",
       "      <td>10.36</td>\n",
       "      <td>light rain</td>\n",
       "      <td>0.52</td>\n",
       "      <td>0.0</td>\n",
       "    </tr>\n",
       "  </tbody>\n",
       "</table>\n",
       "</div>"
      ],
      "text/plain": [
       "        City Country  Latitudes  Longitudes  Max Temp  Humidity  Cloudiness  \\\n",
       "0       Hilo      US    19.7297   -155.0900     76.73        91          90   \n",
       "1  Ostrovnoy      RU    68.0531     39.5131      9.59        73          83   \n",
       "2   Qaqortoq      GL    60.7167    -46.0333     25.30        68         100   \n",
       "3    Rikitea      PF   -23.1203   -134.9692     76.50        74          99   \n",
       "4   Hermanus      ZA   -34.4187     19.2345     60.91        94         100   \n",
       "\n",
       "   Wind Speed   Current Description  Rain (inches)  Snow (inches)  \n",
       "0       17.27  heavy intensity rain           5.06            0.0  \n",
       "1       23.38         broken clouds           0.00            0.0  \n",
       "2       23.62       overcast clouds           0.00            0.0  \n",
       "3        8.61       overcast clouds           0.00            0.0  \n",
       "4       10.36            light rain           0.52            0.0  "
      ]
     },
     "execution_count": 8,
     "metadata": {},
     "output_type": "execute_result"
    }
   ],
   "source": [
    "# Convert the array of dict. to Pandas DataFrame.\n",
    "city_data_df = pd.DataFrame(city_data)\n",
    "city_data_df.head()"
   ]
  },
  {
   "cell_type": "code",
   "execution_count": 9,
   "id": "fa37813f",
   "metadata": {},
   "outputs": [],
   "source": [
    "# Create output file as csv.\n",
    "output_data_file = \"WeatherPy_database.csv\"\n",
    "\n",
    "# Convert the City_Data into a csv.\n",
    "city_data_df.to_csv(output_data_file, index_label=\"City_ID\")"
   ]
  },
  {
   "cell_type": "code",
   "execution_count": null,
   "id": "229fc416",
   "metadata": {},
   "outputs": [],
   "source": []
  }
 ],
 "metadata": {
  "kernelspec": {
   "display_name": "PythonData",
   "language": "python",
   "name": "pythondata"
  },
  "language_info": {
   "codemirror_mode": {
    "name": "ipython",
    "version": 3
   },
   "file_extension": ".py",
   "mimetype": "text/x-python",
   "name": "python",
   "nbconvert_exporter": "python",
   "pygments_lexer": "ipython3",
   "version": "3.7.10"
  }
 },
 "nbformat": 4,
 "nbformat_minor": 5
}
